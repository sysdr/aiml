{
 "cells": [
  {
   "cell_type": "markdown",
   "metadata": {},
   "source": [
    "# Day 12: Introduction to Calculus for AI/ML\n",
    "\n",
    "## Interactive Learning Notebook\n",
    "\n",
    "This notebook provides an interactive way to explore calculus concepts for AI/ML."
   ]
  },
  {
   "cell_type": "code",
   "execution_count": null,
   "metadata": {},
   "outputs": [],
   "source": [
    "# Import our lesson code\n",
    "from lesson_code import AICalculusToolkit\n",
    "import numpy as np\n",
    "import matplotlib.pyplot as plt\n",
    "\n",
    "# Initialize toolkit\n",
    "toolkit = AICalculusToolkit()\n",
    "print(\"🧮 Ready to explore calculus for AI!\")"
   ]
  },
  {
   "cell_type": "markdown",
   "metadata": {},
   "source": [
    "## Exercise 1: Understanding Derivatives\n",
    "\n",
    "Experiment with different x values to see how derivatives work:"
   ]
  },
  {
   "cell_type": "code",
   "execution_count": null,
   "metadata": {},
   "outputs": [],
   "source": [
    "# Try different x values\n",
    "x_value = 2.5  # Change this value!\n",
    "result = toolkit.compare_derivatives(x_value)\n",
    "print(f\"At x = {result['x']}:\")\n",
    "print(f\"  Function value: {toolkit.simple_function(x_value):.3f}\")\n",
    "print(f\"  Derivative (slope): {result['analytical']:.3f}\")\n",
    "print(f\"  Numerical approximation: {result['numerical']:.3f}\")"
   ]
  },
  {
   "cell_type": "markdown",
   "metadata": {},
   "source": [
    "## Exercise 2: Gradient Descent Experiment\n",
    "\n",
    "Try different starting points and learning rates:"
   ]
  },
  {
   "cell_type": "code",
   "execution_count": null,
   "metadata": {},
   "outputs": [],
   "source": [
    "# Experiment with different parameters\n",
    "start_x = 5.0      # Try: -3, 0, 7, etc.\n",
    "learning_rate = 0.1  # Try: 0.01, 0.5, 0.9, etc.\n",
    "\n",
    "minimum_x, path = toolkit.gradient_descent_1d(\n",
    "    toolkit.simple_function,\n",
    "    toolkit.derivative_function,\n",
    "    start_x=start_x,\n",
    "    learning_rate=learning_rate,\n",
    "    steps=20\n",
    ")\n",
    "\n",
    "print(f\"Started at x = {start_x}, found minimum at x = {minimum_x:.4f}\")"
   ]
  },
  {
   "cell_type": "markdown",
   "metadata": {},
   "source": [
    "## Exercise 3: AI Learning Simulation\n",
    "\n",
    "Watch an AI system learn to make better predictions:"
   ]
  },
  {
   "cell_type": "code",
   "execution_count": null,
   "metadata": {},
   "outputs": [],
   "source": [
    "# Simulate AI learning\n",
    "initial_prediction = 10.0  # AI's first guess\n",
    "target_value = 2.0         # What we want AI to predict\n",
    "\n",
    "history = toolkit.simulate_ai_learning(\n",
    "    initial_prediction=initial_prediction,\n",
    "    target=target_value,\n",
    "    learning_rate=0.2,\n",
    "    steps=15\n",
    ")\n",
    "\n",
    "# Plot learning progress\n",
    "steps = [h['step'] for h in history]\n",
    "predictions = [h['prediction'] for h in history]\n",
    "losses = [h['loss'] for h in history]\n",
    "\n",
    "fig, (ax1, ax2) = plt.subplots(1, 2, figsize=(12, 4))\n",
    "\n",
    "ax1.plot(steps, predictions, 'bo-', label='AI Predictions')\n",
    "ax1.axhline(y=target_value, color='r', linestyle='--', label='Target')\n",
    "ax1.set_xlabel('Learning Step')\n",
    "ax1.set_ylabel('Prediction')\n",
    "ax1.set_title('AI Learning Progress')\n",
    "ax1.legend()\n",
    "ax1.grid(True, alpha=0.3)\n",
    "\n",
    "ax2.plot(steps, losses, 'ro-', label='Loss (Error)')\n",
    "ax2.set_xlabel('Learning Step')\n",
    "ax2.set_ylabel('Loss')\n",
    "ax2.set_title('Error Reduction')\n",
    "ax2.legend()\n",
    "ax2.grid(True, alpha=0.3)\n",
    "\n",
    "plt.tight_layout()\n",
    "plt.show()"
   ]
  },
  {
   "cell_type": "markdown",
   "metadata": {},
   "source": [
    "## Your Turn: Custom Experiments\n",
    "\n",
    "Use the cells below to experiment with the concepts:"
   ]
  },
  {
   "cell_type": "code",
   "execution_count": null,
   "metadata": {},
   "outputs": [],
   "source": [
    "# Your experiments here!\n",
    "# Try creating your own functions, testing different learning rates, etc.\n"
   ]
  }
 ],
 "metadata": {
  "kernelspec": {
   "display_name": "Python 3",
   "language": "python",
   "name": "python3"
  },
  "language_info": {
   "codemirror_mode": {
    "name": "ipython",
    "version": 3
   },
   "file_extension": ".py",
   "mimetype": "text/x-python",
   "name": "python",
   "nbconvert_exporter": "python",
   "pygments_lexer": "ipython3",
   "version": "3.11.0"
  }
 },
 "nbformat": 4,
 "nbformat_minor": 4
}
