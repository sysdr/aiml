{
 "cells": [
  {
   "cell_type": "markdown",
   "metadata": {},
   "source": [
    "# Day 10: Matrices and Matrix Operations\n",
    "\n",
    "Welcome to the interactive version of today's lesson! This notebook lets you experiment with matrices in a hands-on way.\n",
    "\n",
    "## 🎯 Today's Goal\n",
    "Understand how matrices power AI systems and build your first computer vision filter."
   ]
  },
  {
   "cell_type": "code",
   "execution_count": null,
   "metadata": {},
   "outputs": [],
   "source": [
    "# Import necessary libraries\n",
    "import numpy as np\n",
    "import matplotlib.pyplot as plt\n",
    "import seaborn as sns\n",
    "\n",
    "# Set up nice plotting\n",
    "plt.style.use('seaborn-v0_8')\n",
    "np.random.seed(42)\n",
    "\n",
    "print(\"🚀 Ready to explore matrices for AI!\")"
   ]
  },
  {
   "cell_type": "markdown",
   "metadata": {},
   "source": [
    "## 1. Creating Matrices for AI Applications\n",
    "\n",
    "Let's start by creating different types of matrices commonly used in AI systems."
   ]
  },
  {
   "cell_type": "code",
   "execution_count": null,
   "metadata": {},
   "outputs": [],
   "source": [
    "# Create different matrix types\n",
    "data_matrix = np.array([\n",
    "    [1.2, 3.4, 2.1],  # Sample 1\n",
    "    [2.8, 1.9, 4.2],  # Sample 2\n",
    "    [3.1, 2.7, 1.8],  # Sample 3\n",
    "    [1.9, 4.1, 3.3]   # Sample 4\n",
    "])\n",
    "\n",
    "print(\"📊 Data Matrix (like a small dataset):\")\n",
    "print(f\"Shape: {data_matrix.shape}\")\n",
    "print(data_matrix)\n",
    "\n",
    "# Neural network weights\n",
    "weights = np.random.randn(3, 2) * 0.5\n",
    "print(\"\\n🧠 Neural Network Weights:\")\n",
    "print(f\"Shape: {weights.shape}\")\n",
    "print(weights)"
   ]
  },
  {
   "cell_type": "markdown",
   "metadata": {},
   "source": [
    "## 2. Matrix Indexing and Slicing\n",
    "\n",
    "Practice accessing different parts of matrices - crucial for AI data manipulation!"
   ]
  },
  {
   "cell_type": "code",
   "execution_count": null,
   "metadata": {},
   "outputs": [],
   "source": [
    "# Practice matrix indexing\n",
    "print(\"🎯 Matrix Indexing Practice:\")\n",
    "print(f\"Single element [0,1]: {data_matrix[0, 1]}\")\n",
    "print(f\"First row (sample): {data_matrix[0, :]}\")\n",
    "print(f\"Second column (feature): {data_matrix[:, 1]}\")\n",
    "print(f\"Subset [0:2, 1:3]:\\n{data_matrix[0:2, 1:3]}\")\n",
    "\n",
    "# Try your own indexing here!\n",
    "# TODO: Get the last row of the matrix\n",
    "# TODO: Get the first and last columns\n",
    "# TODO: Get all values greater than 2.5"
   ]
  },
  {
   "cell_type": "markdown",
   "metadata": {},
   "source": [
    "## 3. Building an Image Filter\n",
    "\n",
    "Now let's create our computer vision project - an image brightness filter!"
   ]
  },
  {
   "cell_type": "code",
   "execution_count": null,
   "metadata": {},
   "outputs": [],
   "source": [
    "# Create a sample \"image\"\n",
    "def create_sample_image(size=8):\n",
    "    image = np.zeros((size, size))\n",
    "    for i in range(size):\n",
    "        for j in range(size):\n",
    "            image[i, j] = (i + j) * 255 / (2 * size - 2)\n",
    "    return image.astype(int)\n",
    "\n",
    "# Create and visualize images\n",
    "original = create_sample_image()\n",
    "bright = np.clip(original + 80, 0, 255)\n",
    "dark = np.clip(original - 80, 0, 255)\n",
    "\n",
    "# Plot the results\n",
    "fig, axes = plt.subplots(1, 3, figsize=(12, 4))\n",
    "\n",
    "axes[0].imshow(original, cmap='gray', vmin=0, vmax=255)\n",
    "axes[0].set_title('Original Image')\n",
    "axes[0].axis('off')\n",
    "\n",
    "axes[1].imshow(bright, cmap='gray', vmin=0, vmax=255)\n",
    "axes[1].set_title('Brightened (+80)')\n",
    "axes[1].axis('off')\n",
    "\n",
    "axes[2].imshow(dark, cmap='gray', vmin=0, vmax=255)\n",
    "axes[2].set_title('Darkened (-80)')\n",
    "axes[2].axis('off')\n",
    "\n",
    "plt.tight_layout()\n",
    "plt.show()\n",
    "\n",
    "print(f\"📊 Brightness Analysis:\")\n",
    "print(f\"Original average: {np.mean(original):.1f}\")\n",
    "print(f\"Brightened average: {np.mean(bright):.1f}\")\n",
    "print(f\"Darkened average: {np.mean(dark):.1f}\")"
   ]
  },
  {
   "cell_type": "markdown",
   "metadata": {},
   "source": [
    "## 4. Experiment Zone\n",
    "\n",
    "Try creating your own matrix operations and filters!"
   ]
  },
  {
   "cell_type": "code",
   "execution_count": null,
   "metadata": {},
   "outputs": [],
   "source": [
    "# Experiment with different operations\n",
    "A = np.array([[1, 2], [3, 4]])\n",
    "B = np.array([[5, 6], [7, 8]])\n",
    "\n",
    "print(\"🧪 Experiment with these matrices:\")\n",
    "print(f\"A = \\n{A}\")\n",
    "print(f\"B = \\n{B}\")\n",
    "\n",
    "# Try these operations:\n",
    "print(f\"\\nA + B = \\n{A + B}\")\n",
    "print(f\"\\nA * 3 = \\n{A * 3}\")\n",
    "print(f\"\\nA.T = \\n{A.T}\")\n",
    "\n",
    "# TODO: Try your own operations!\n",
    "# What happens if you multiply A and B element-wise?\n",
    "# Can you create a contrast filter (multiply by 1.5)?\n",
    "# What about combining brightness and contrast adjustments?"
   ]
  },
  {
   "cell_type": "markdown",
   "metadata": {},
   "source": [
    "## 5. AI Connections Visualization\n",
    "\n",
    "Let's visualize how matrices appear in different AI applications."
   ]
  },
  {
   "cell_type": "code",
   "execution_count": null,
   "metadata": {},
   "outputs": [],
   "source": [
    "# Visualize different AI matrix uses\n",
    "fig, axes = plt.subplots(2, 2, figsize=(12, 10))\n",
    "\n",
    "# 1. Image data\n",
    "rgb_image = np.random.rand(32, 32, 3)\n",
    "axes[0, 0].imshow(rgb_image)\n",
    "axes[0, 0].set_title('Computer Vision\\n32×32×3 RGB Image Matrix')\n",
    "axes[0, 0].axis('off')\n",
    "\n",
    "# 2. Neural network weights\n",
    "weights_viz = np.random.randn(20, 20)\n",
    "sns.heatmap(weights_viz, ax=axes[0, 1], cmap='coolwarm', center=0, cbar=False)\n",
    "axes[0, 1].set_title('Neural Network\\n20×20 Weight Matrix')\n",
    "\n",
    "# 3. Word embeddings\n",
    "embeddings = np.random.randn(50, 10)\n",
    "sns.heatmap(embeddings, ax=axes[1, 0], cmap='viridis', cbar=False)\n",
    "axes[1, 0].set_title('Word Embeddings\\n50 words × 10 dimensions')\n",
    "\n",
    "# 4. User-item matrix\n",
    "user_item = np.random.choice([0, 1, 2, 3, 4, 5], size=(20, 15), p=[0.7, 0.1, 0.1, 0.05, 0.03, 0.02])\n",
    "sns.heatmap(user_item, ax=axes[1, 1], cmap='Blues', cbar=False)\n",
    "axes[1, 1].set_title('Recommendation System\\n20 users × 15 items')\n",
    "\n",
    "plt.tight_layout()\n",
    "plt.show()\n",
    "\n",
    "print(\"🤖 These are all matrices used in real AI systems!\")"
   ]
  },
  {
   "cell_type": "markdown",
   "metadata": {},
   "source": [
    "## 🎉 Congratulations!\n",
    "\n",
    "You've completed Day 10! You now understand:\n",
    "- How to create and manipulate matrices in Python\n",
    "- Why matrices are fundamental to AI systems\n",
    "- How to build basic computer vision filters\n",
    "- The connection between mathematics and real AI applications\n",
    "\n",
    "### 🚀 Next Steps\n",
    "Tomorrow we'll explore matrix multiplication - the operation that makes neural networks possible!\n",
    "\n",
    "### 💡 Challenge\n",
    "Try modifying the image filter to create:\n",
    "1. A contrast adjustment (multiply by a factor)\n",
    "2. A threshold effect (values above X become 255, below become 0)\n",
    "3. A combination filter (brightness + contrast)"
   ]
  }
 ],
 "metadata": {
  "kernelspec": {
   "display_name": "Python 3",
   "language": "python",
   "name": "python3"
  },
  "language_info": {
   "codemirror_mode": {
    "name": "ipython",
    "version": 3
   },
   "file_extension": ".py",
   "mimetype": "text/x-python",
   "name": "python",
   "nbconvert_exporter": "python",
   "pygments_lexer": "ipython3",
   "version": "3.11.0"
  }
 },
 "nbformat": 4,
 "nbformat_minor": 4
}
