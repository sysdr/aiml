{
 "cells": [
  {
   "cell_type": "markdown",
   "metadata": {},
   "source": [
    "# Day 26: Descriptive Statistics - Interactive Exploration\n",
    "\n",
    "This notebook lets you experiment with descriptive statistics interactively."
   ]
  },
  {
   "cell_type": "code",
   "execution_count": null,
   "metadata": {},
   "outputs": [],
   "source": [
    "# Import our lesson code\n",
    "from lesson_code import DescriptiveStats, DataProfiler\n",
    "import numpy as np\n",
    "import matplotlib.pyplot as plt\n",
    "\n",
    "print(\"✅ Imports successful!\")"
   ]
  },
  {
   "cell_type": "markdown",
   "metadata": {},
   "source": [
    "## Experiment 1: Understanding Mean vs Median"
   ]
  },
  {
   "cell_type": "code",
   "execution_count": null,
   "metadata": {},
   "outputs": [],
   "source": [
    "# Try different datasets\n",
    "datasets = {\n",
    "    'Symmetric': [10, 20, 30, 40, 50],\n",
    "    'Right-skewed': [1, 2, 3, 4, 100],\n",
    "    'Left-skewed': [100, 2, 3, 4, 5],\n",
    "    'With outliers': [45, 47, 46, 48, 280, 46, 47]\n",
    "}\n",
    "\n",
    "for name, data in datasets.items():\n",
    "    stats = DescriptiveStats(data)\n",
    "    print(f\"\\n{name}:\")\n",
    "    print(f\"  Data: {data}\")\n",
    "    print(f\"  Mean: {stats.mean():.2f}\")\n",
    "    print(f\"  Median: {stats.median():.2f}\")\n",
    "    print(f\"  Mode: {stats.mode()}\")"
   ]
  },
  {
   "cell_type": "markdown",
   "metadata": {},
   "source": [
    "## Experiment 2: Your Own Data\n",
    "\n",
    "Try your own dataset! Replace the list below:"
   ]
  },
  {
   "cell_type": "code",
   "execution_count": null,
   "metadata": {},
   "outputs": [],
   "source": [
    "# Your data here\n",
    "my_data = [12, 15, 12, 18, 22, 12, 25, 28, 12, 30]\n",
    "\n",
    "profiler = DataProfiler(my_data, \"my_feature\")\n",
    "print(profiler.generate_report())"
   ]
  },
  {
   "cell_type": "markdown",
   "metadata": {},
   "source": [
    "## Experiment 3: Visualizing Distributions"
   ]
  },
  {
   "cell_type": "code",
   "execution_count": null,
   "metadata": {},
   "outputs": [],
   "source": [
    "# Visualize how outliers affect statistics\n",
    "normal_data = [10, 12, 11, 13, 12, 11, 14, 12, 13, 11]\n",
    "with_outlier = normal_data + [100]\n",
    "\n",
    "fig, (ax1, ax2) = plt.subplots(1, 2, figsize=(12, 4))\n",
    "\n",
    "# Normal data\n",
    "stats1 = DescriptiveStats(normal_data)\n",
    "ax1.hist(normal_data, bins=10, edgecolor='black')\n",
    "ax1.axvline(stats1.mean(), color='red', linestyle='--', label=f'Mean: {stats1.mean():.1f}')\n",
    "ax1.axvline(stats1.median(), color='blue', linestyle='--', label=f'Median: {stats1.median():.1f}')\n",
    "ax1.set_title('Normal Data')\n",
    "ax1.legend()\n",
    "\n",
    "# With outlier\n",
    "stats2 = DescriptiveStats(with_outlier)\n",
    "ax2.hist(with_outlier, bins=10, edgecolor='black')\n",
    "ax2.axvline(stats2.mean(), color='red', linestyle='--', label=f'Mean: {stats2.mean():.1f}')\n",
    "ax2.axvline(stats2.median(), color='blue', linestyle='--', label=f'Median: {stats2.median():.1f}')\n",
    "ax2.set_title('With Outlier')\n",
    "ax2.legend()\n",
    "\n",
    "plt.tight_layout()\n",
    "plt.show()\n",
    "\n",
    "print(f\"Notice how the outlier pulls the mean far from the median!\")"
   ]
  }
 ],
 "metadata": {
  "kernelspec": {
   "display_name": "Python 3",
   "language": "python",
   "name": "python3"
  },
  "language_info": {
   "name": "python",
   "version": "3.11.0"
  }
 },
 "nbformat": 4,
 "nbformat_minor": 4
}
